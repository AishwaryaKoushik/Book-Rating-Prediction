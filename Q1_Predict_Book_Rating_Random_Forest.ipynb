{
 "cells": [
  {
   "cell_type": "markdown",
   "metadata": {},
   "source": [
    "Load the test data"
   ]
  },
  {
   "cell_type": "code",
   "execution_count": 21,
   "metadata": {},
   "outputs": [],
   "source": [
    "import numpy as np\n",
    "import pandas as pd\n",
    "import string\n",
    "import re\n",
    "import nltk\n",
    "from sklearn.feature_extraction.text import CountVectorizer,TfidfVectorizer,TfidfTransformer\n",
    "import sklearn"
   ]
  },
  {
   "cell_type": "code",
   "execution_count": 22,
   "metadata": {},
   "outputs": [
    {
     "data": {
      "text/plain": [
       "(270000, 10)"
      ]
     },
     "execution_count": 22,
     "metadata": {},
     "output_type": "execute_result"
    }
   ],
   "source": [
    "dataframe = pd.read_csv(\"Test.csv\")\n",
    "\n",
    "dataframe.head()\n",
    "dataframe.shape"
   ]
  },
  {
   "cell_type": "markdown",
   "metadata": {},
   "source": [
    "Converting it to lowercase"
   ]
  },
  {
   "cell_type": "code",
   "execution_count": 23,
   "metadata": {},
   "outputs": [
    {
     "data": {
      "text/html": [
       "<div>\n",
       "<style scoped>\n",
       "    .dataframe tbody tr th:only-of-type {\n",
       "        vertical-align: middle;\n",
       "    }\n",
       "\n",
       "    .dataframe tbody tr th {\n",
       "        vertical-align: top;\n",
       "    }\n",
       "\n",
       "    .dataframe thead th {\n",
       "        text-align: right;\n",
       "    }\n",
       "</style>\n",
       "<table border=\"1\" class=\"dataframe\">\n",
       "  <thead>\n",
       "    <tr style=\"text-align: right;\">\n",
       "      <th></th>\n",
       "      <th>user_id</th>\n",
       "      <th>book_id</th>\n",
       "      <th>review_id</th>\n",
       "      <th>review_text</th>\n",
       "      <th>date_added</th>\n",
       "      <th>date_updated</th>\n",
       "      <th>read_at</th>\n",
       "      <th>started_at</th>\n",
       "      <th>n_votes</th>\n",
       "      <th>n_comments</th>\n",
       "    </tr>\n",
       "  </thead>\n",
       "  <tbody>\n",
       "    <tr>\n",
       "      <th>0</th>\n",
       "      <td>6ff6f572141651ad567e301e95158a68</td>\n",
       "      <td>2418888</td>\n",
       "      <td>b3d1248da3dd5cb0c15d5e737793ca32</td>\n",
       "      <td>[tw for book: (view spoiler)[wicca/witchcraft,...</td>\n",
       "      <td>Mon Sep 21 23:32:23 -0700 2015</td>\n",
       "      <td>Mon Sep 21 23:39:05 -0700 2015</td>\n",
       "      <td>Sat Jun 06 00:00:00 -0700 2015</td>\n",
       "      <td>NaN</td>\n",
       "      <td>0</td>\n",
       "      <td>0</td>\n",
       "    </tr>\n",
       "    <tr>\n",
       "      <th>1</th>\n",
       "      <td>16b60bb530dceaafde65828438bc79ca</td>\n",
       "      <td>6516450</td>\n",
       "      <td>8ac45a1ad472e40dd19245317087f009</td>\n",
       "      <td>i only found like half of them extremely inter...</td>\n",
       "      <td>Tue Apr 30 07:33:20 -0700 2013</td>\n",
       "      <td>Mon Jun 01 13:46:37 -0700 2015</td>\n",
       "      <td>Mon Jun 01 13:46:37 -0700 2015</td>\n",
       "      <td>NaN</td>\n",
       "      <td>0</td>\n",
       "      <td>0</td>\n",
       "    </tr>\n",
       "    <tr>\n",
       "      <th>2</th>\n",
       "      <td>7efb0e9b3ab7a9e3a5d4a0e0e4200b18</td>\n",
       "      <td>8752885</td>\n",
       "      <td>e083ab7283f9c8f0edd6f5673af348a9</td>\n",
       "      <td>the dragon's path sneaks up on you. you start ...</td>\n",
       "      <td>Thu Mar 20 04:08:20 -0700 2014</td>\n",
       "      <td>Fri Mar 21 10:04:10 -0700 2014</td>\n",
       "      <td>Fri Mar 21 10:04:10 -0700 2014</td>\n",
       "      <td>Thu Mar 20 00:00:00 -0700 2014</td>\n",
       "      <td>0</td>\n",
       "      <td>0</td>\n",
       "    </tr>\n",
       "    <tr>\n",
       "      <th>3</th>\n",
       "      <td>aed4f8ec7b4f51fcd5b7f2facea5a058</td>\n",
       "      <td>13484184</td>\n",
       "      <td>167e419508a6a188472e9568226da48a</td>\n",
       "      <td>3.5 stars \\n this is well written and i was dr...</td>\n",
       "      <td>Thu Oct 02 11:47:41 -0700 2014</td>\n",
       "      <td>Wed Oct 15 07:55:45 -0700 2014</td>\n",
       "      <td>Sat Oct 11 00:00:00 -0700 2014</td>\n",
       "      <td>NaN</td>\n",
       "      <td>2</td>\n",
       "      <td>3</td>\n",
       "    </tr>\n",
       "    <tr>\n",
       "      <th>4</th>\n",
       "      <td>880dc69f3de6d55a0623d61dedd49868</td>\n",
       "      <td>13265293</td>\n",
       "      <td>03a8a7306e3ef4c1ffd95de068b58b4e</td>\n",
       "      <td>crestfallen. that's what i feel after i read t...</td>\n",
       "      <td>Sun Dec 08 11:02:59 -0800 2013</td>\n",
       "      <td>Wed Dec 11 20:04:26 -0800 2013</td>\n",
       "      <td>Wed Dec 11 00:00:00 -0800 2013</td>\n",
       "      <td>Sun Dec 08 00:00:00 -0800 2013</td>\n",
       "      <td>0</td>\n",
       "      <td>0</td>\n",
       "    </tr>\n",
       "  </tbody>\n",
       "</table>\n",
       "</div>"
      ],
      "text/plain": [
       "                            user_id   book_id  \\\n",
       "0  6ff6f572141651ad567e301e95158a68   2418888   \n",
       "1  16b60bb530dceaafde65828438bc79ca   6516450   \n",
       "2  7efb0e9b3ab7a9e3a5d4a0e0e4200b18   8752885   \n",
       "3  aed4f8ec7b4f51fcd5b7f2facea5a058  13484184   \n",
       "4  880dc69f3de6d55a0623d61dedd49868  13265293   \n",
       "\n",
       "                          review_id  \\\n",
       "0  b3d1248da3dd5cb0c15d5e737793ca32   \n",
       "1  8ac45a1ad472e40dd19245317087f009   \n",
       "2  e083ab7283f9c8f0edd6f5673af348a9   \n",
       "3  167e419508a6a188472e9568226da48a   \n",
       "4  03a8a7306e3ef4c1ffd95de068b58b4e   \n",
       "\n",
       "                                         review_text  \\\n",
       "0  [tw for book: (view spoiler)[wicca/witchcraft,...   \n",
       "1  i only found like half of them extremely inter...   \n",
       "2  the dragon's path sneaks up on you. you start ...   \n",
       "3  3.5 stars \\n this is well written and i was dr...   \n",
       "4  crestfallen. that's what i feel after i read t...   \n",
       "\n",
       "                       date_added                    date_updated  \\\n",
       "0  Mon Sep 21 23:32:23 -0700 2015  Mon Sep 21 23:39:05 -0700 2015   \n",
       "1  Tue Apr 30 07:33:20 -0700 2013  Mon Jun 01 13:46:37 -0700 2015   \n",
       "2  Thu Mar 20 04:08:20 -0700 2014  Fri Mar 21 10:04:10 -0700 2014   \n",
       "3  Thu Oct 02 11:47:41 -0700 2014  Wed Oct 15 07:55:45 -0700 2014   \n",
       "4  Sun Dec 08 11:02:59 -0800 2013  Wed Dec 11 20:04:26 -0800 2013   \n",
       "\n",
       "                          read_at                      started_at  n_votes  \\\n",
       "0  Sat Jun 06 00:00:00 -0700 2015                             NaN        0   \n",
       "1  Mon Jun 01 13:46:37 -0700 2015                             NaN        0   \n",
       "2  Fri Mar 21 10:04:10 -0700 2014  Thu Mar 20 00:00:00 -0700 2014        0   \n",
       "3  Sat Oct 11 00:00:00 -0700 2014                             NaN        2   \n",
       "4  Wed Dec 11 00:00:00 -0800 2013  Sun Dec 08 00:00:00 -0800 2013        0   \n",
       "\n",
       "   n_comments  \n",
       "0           0  \n",
       "1           0  \n",
       "2           0  \n",
       "3           3  \n",
       "4           0  "
      ]
     },
     "execution_count": 23,
     "metadata": {},
     "output_type": "execute_result"
    }
   ],
   "source": [
    "dataframe['review_text']=dataframe['review_text'].astype('str')\n",
    "dataframe['review_text']=dataframe['review_text'].str.lower()\n",
    "dataframe.head()"
   ]
  },
  {
   "cell_type": "markdown",
   "metadata": {},
   "source": [
    "Expanding Contractions"
   ]
  },
  {
   "cell_type": "code",
   "execution_count": 24,
   "metadata": {},
   "outputs": [],
   "source": [
    "import contractions\n",
    "def expand_contractions(text):\n",
    "    expanded_words = []\n",
    "    for word in text.split():\n",
    "       expanded_words.append(contractions.fix(word))\n",
    "    return ' '.join(expanded_words)"
   ]
  },
  {
   "cell_type": "markdown",
   "metadata": {},
   "source": [
    "Removal of Hashtags and mentions"
   ]
  },
  {
   "cell_type": "code",
   "execution_count": 25,
   "metadata": {},
   "outputs": [],
   "source": [
    "def remove_mentions_and_tags(text):\n",
    "    text = re.sub(r'@\\S*', '', text)\n",
    "    return re.sub(r'#\\S*', '', text)"
   ]
  },
  {
   "cell_type": "markdown",
   "metadata": {},
   "source": [
    "Removal of Special characters"
   ]
  },
  {
   "cell_type": "code",
   "execution_count": 26,
   "metadata": {},
   "outputs": [],
   "source": [
    "def remove_special_characters(text):\n",
    "    # define the pattern to keep\n",
    "    pat = r'[^a-zA-z0-9.,!?/:;\\\"\\'\\s]'\n",
    "    return re.sub(pat, '', text)"
   ]
  },
  {
   "cell_type": "markdown",
   "metadata": {},
   "source": [
    "Removal of Punctutaions"
   ]
  },
  {
   "cell_type": "code",
   "execution_count": 27,
   "metadata": {},
   "outputs": [],
   "source": [
    "PUNCT_TO_REMOVE = string.punctuation\n",
    "def remove_punctuation(text):\n",
    "    \"\"\"custom function to remove the punctuation\"\"\"\n",
    "    return text.translate(str.maketrans('', '', PUNCT_TO_REMOVE))"
   ]
  },
  {
   "cell_type": "markdown",
   "metadata": {},
   "source": [
    "Removal of URLs"
   ]
  },
  {
   "cell_type": "code",
   "execution_count": 28,
   "metadata": {},
   "outputs": [],
   "source": [
    "def remove_urls(text):\n",
    "    url_pattern = re.compile(r'https?://\\S+|www\\.\\S+')\n",
    "    return url_pattern.sub(r'', text)"
   ]
  },
  {
   "cell_type": "markdown",
   "metadata": {},
   "source": [
    "Removal of HTML tags"
   ]
  },
  {
   "cell_type": "code",
   "execution_count": 29,
   "metadata": {},
   "outputs": [],
   "source": [
    "def remove_html(text):\n",
    "    html_pattern = re.compile('<.*?>')\n",
    "    return html_pattern.sub(r'', text)"
   ]
  },
  {
   "cell_type": "markdown",
   "metadata": {},
   "source": [
    "Removal of stopwords"
   ]
  },
  {
   "cell_type": "code",
   "execution_count": 30,
   "metadata": {},
   "outputs": [],
   "source": [
    "from nltk.corpus import stopwords\n",
    "\n",
    "STOPWORDS = set(stopwords.words('english'))\n",
    "def remove_stopwords(text):\n",
    "    \"\"\"custom function to remove the stopwords\"\"\"\n",
    "    return \" \".join([word for word in str(text).split() if word not in STOPWORDS])"
   ]
  },
  {
   "cell_type": "markdown",
   "metadata": {},
   "source": [
    "Text Cleaning"
   ]
  },
  {
   "cell_type": "code",
   "execution_count": 31,
   "metadata": {},
   "outputs": [
    {
     "data": {
      "text/html": [
       "<div>\n",
       "<style scoped>\n",
       "    .dataframe tbody tr th:only-of-type {\n",
       "        vertical-align: middle;\n",
       "    }\n",
       "\n",
       "    .dataframe tbody tr th {\n",
       "        vertical-align: top;\n",
       "    }\n",
       "\n",
       "    .dataframe thead th {\n",
       "        text-align: right;\n",
       "    }\n",
       "</style>\n",
       "<table border=\"1\" class=\"dataframe\">\n",
       "  <thead>\n",
       "    <tr style=\"text-align: right;\">\n",
       "      <th></th>\n",
       "      <th>user_id</th>\n",
       "      <th>book_id</th>\n",
       "      <th>review_id</th>\n",
       "      <th>review_text</th>\n",
       "      <th>date_added</th>\n",
       "      <th>date_updated</th>\n",
       "      <th>read_at</th>\n",
       "      <th>started_at</th>\n",
       "      <th>n_votes</th>\n",
       "      <th>n_comments</th>\n",
       "    </tr>\n",
       "  </thead>\n",
       "  <tbody>\n",
       "    <tr>\n",
       "      <th>0</th>\n",
       "      <td>6ff6f572141651ad567e301e95158a68</td>\n",
       "      <td>2418888</td>\n",
       "      <td>b3d1248da3dd5cb0c15d5e737793ca32</td>\n",
       "      <td>tw book view spoilerwiccawitchcraft minoradult...</td>\n",
       "      <td>Mon Sep 21 23:32:23 -0700 2015</td>\n",
       "      <td>Mon Sep 21 23:39:05 -0700 2015</td>\n",
       "      <td>Sat Jun 06 00:00:00 -0700 2015</td>\n",
       "      <td>NaN</td>\n",
       "      <td>0</td>\n",
       "      <td>0</td>\n",
       "    </tr>\n",
       "    <tr>\n",
       "      <th>1</th>\n",
       "      <td>16b60bb530dceaafde65828438bc79ca</td>\n",
       "      <td>6516450</td>\n",
       "      <td>8ac45a1ad472e40dd19245317087f009</td>\n",
       "      <td>found like half extremely interesting excellen...</td>\n",
       "      <td>Tue Apr 30 07:33:20 -0700 2013</td>\n",
       "      <td>Mon Jun 01 13:46:37 -0700 2015</td>\n",
       "      <td>Mon Jun 01 13:46:37 -0700 2015</td>\n",
       "      <td>NaN</td>\n",
       "      <td>0</td>\n",
       "      <td>0</td>\n",
       "    </tr>\n",
       "    <tr>\n",
       "      <th>2</th>\n",
       "      <td>7efb0e9b3ab7a9e3a5d4a0e0e4200b18</td>\n",
       "      <td>8752885</td>\n",
       "      <td>e083ab7283f9c8f0edd6f5673af348a9</td>\n",
       "      <td>dragons path sneaks start book pause middle ke...</td>\n",
       "      <td>Thu Mar 20 04:08:20 -0700 2014</td>\n",
       "      <td>Fri Mar 21 10:04:10 -0700 2014</td>\n",
       "      <td>Fri Mar 21 10:04:10 -0700 2014</td>\n",
       "      <td>Thu Mar 20 00:00:00 -0700 2014</td>\n",
       "      <td>0</td>\n",
       "      <td>0</td>\n",
       "    </tr>\n",
       "    <tr>\n",
       "      <th>3</th>\n",
       "      <td>aed4f8ec7b4f51fcd5b7f2facea5a058</td>\n",
       "      <td>13484184</td>\n",
       "      <td>167e419508a6a188472e9568226da48a</td>\n",
       "      <td>35 stars well written drawn story never liked ...</td>\n",
       "      <td>Thu Oct 02 11:47:41 -0700 2014</td>\n",
       "      <td>Wed Oct 15 07:55:45 -0700 2014</td>\n",
       "      <td>Sat Oct 11 00:00:00 -0700 2014</td>\n",
       "      <td>NaN</td>\n",
       "      <td>2</td>\n",
       "      <td>3</td>\n",
       "    </tr>\n",
       "    <tr>\n",
       "      <th>4</th>\n",
       "      <td>880dc69f3de6d55a0623d61dedd49868</td>\n",
       "      <td>13265293</td>\n",
       "      <td>03a8a7306e3ef4c1ffd95de068b58b4e</td>\n",
       "      <td>crestfallen feel read book hidden sounds aweso...</td>\n",
       "      <td>Sun Dec 08 11:02:59 -0800 2013</td>\n",
       "      <td>Wed Dec 11 20:04:26 -0800 2013</td>\n",
       "      <td>Wed Dec 11 00:00:00 -0800 2013</td>\n",
       "      <td>Sun Dec 08 00:00:00 -0800 2013</td>\n",
       "      <td>0</td>\n",
       "      <td>0</td>\n",
       "    </tr>\n",
       "  </tbody>\n",
       "</table>\n",
       "</div>"
      ],
      "text/plain": [
       "                            user_id   book_id  \\\n",
       "0  6ff6f572141651ad567e301e95158a68   2418888   \n",
       "1  16b60bb530dceaafde65828438bc79ca   6516450   \n",
       "2  7efb0e9b3ab7a9e3a5d4a0e0e4200b18   8752885   \n",
       "3  aed4f8ec7b4f51fcd5b7f2facea5a058  13484184   \n",
       "4  880dc69f3de6d55a0623d61dedd49868  13265293   \n",
       "\n",
       "                          review_id  \\\n",
       "0  b3d1248da3dd5cb0c15d5e737793ca32   \n",
       "1  8ac45a1ad472e40dd19245317087f009   \n",
       "2  e083ab7283f9c8f0edd6f5673af348a9   \n",
       "3  167e419508a6a188472e9568226da48a   \n",
       "4  03a8a7306e3ef4c1ffd95de068b58b4e   \n",
       "\n",
       "                                         review_text  \\\n",
       "0  tw book view spoilerwiccawitchcraft minoradult...   \n",
       "1  found like half extremely interesting excellen...   \n",
       "2  dragons path sneaks start book pause middle ke...   \n",
       "3  35 stars well written drawn story never liked ...   \n",
       "4  crestfallen feel read book hidden sounds aweso...   \n",
       "\n",
       "                       date_added                    date_updated  \\\n",
       "0  Mon Sep 21 23:32:23 -0700 2015  Mon Sep 21 23:39:05 -0700 2015   \n",
       "1  Tue Apr 30 07:33:20 -0700 2013  Mon Jun 01 13:46:37 -0700 2015   \n",
       "2  Thu Mar 20 04:08:20 -0700 2014  Fri Mar 21 10:04:10 -0700 2014   \n",
       "3  Thu Oct 02 11:47:41 -0700 2014  Wed Oct 15 07:55:45 -0700 2014   \n",
       "4  Sun Dec 08 11:02:59 -0800 2013  Wed Dec 11 20:04:26 -0800 2013   \n",
       "\n",
       "                          read_at                      started_at  n_votes  \\\n",
       "0  Sat Jun 06 00:00:00 -0700 2015                             NaN        0   \n",
       "1  Mon Jun 01 13:46:37 -0700 2015                             NaN        0   \n",
       "2  Fri Mar 21 10:04:10 -0700 2014  Thu Mar 20 00:00:00 -0700 2014        0   \n",
       "3  Sat Oct 11 00:00:00 -0700 2014                             NaN        2   \n",
       "4  Wed Dec 11 00:00:00 -0800 2013  Sun Dec 08 00:00:00 -0800 2013        0   \n",
       "\n",
       "   n_comments  \n",
       "0           0  \n",
       "1           0  \n",
       "2           0  \n",
       "3           3  \n",
       "4           0  "
      ]
     },
     "execution_count": 31,
     "metadata": {},
     "output_type": "execute_result"
    }
   ],
   "source": [
    "def text_cleaning():\n",
    "    dataframe['review_text'] = dataframe['review_text'].apply(lambda text: expand_contractions(text))\n",
    "    dataframe['review_text'] = dataframe['review_text'].apply(lambda text: remove_mentions_and_tags(text))\n",
    "    dataframe['review_text'] = dataframe['review_text'].apply(lambda text: remove_special_characters(text))\n",
    "    dataframe['review_text'] = dataframe['review_text'].apply(lambda text: remove_punctuation(text))\n",
    "    dataframe['review_text'] = dataframe['review_text'].apply(lambda text: remove_urls(text))\n",
    "    dataframe['review_text'] = dataframe['review_text'].apply(lambda text: remove_html(text))\n",
    "    dataframe['review_text'] = dataframe['review_text'].apply(lambda text: remove_stopwords(text))\n",
    "\n",
    "text_cleaning()\n",
    "dataframe.head()"
   ]
  },
  {
   "cell_type": "markdown",
   "metadata": {},
   "source": [
    "Tokenization, Lemmatization and Stemming"
   ]
  },
  {
   "cell_type": "code",
   "execution_count": 32,
   "metadata": {},
   "outputs": [],
   "source": [
    "from nltk.tokenize import word_tokenize\n",
    "from nltk.stem import PorterStemmer\n",
    "from nltk.stem import WordNetLemmatizer\n",
    "\n",
    "stemmer = PorterStemmer()\n",
    "lemmatizer = WordNetLemmatizer()\n",
    "\n",
    "def lemmatization_stemming(text):\n",
    "    tokens = word_tokenize(text)\n",
    "    stemmed_tokens = [stemmer.stem(word) for word in tokens]\n",
    "    return \" \".join([lemmatizer.lemmatize(word) for word in stemmed_tokens])\n"
   ]
  },
  {
   "cell_type": "code",
   "execution_count": 33,
   "metadata": {},
   "outputs": [
    {
     "data": {
      "text/html": [
       "<div>\n",
       "<style scoped>\n",
       "    .dataframe tbody tr th:only-of-type {\n",
       "        vertical-align: middle;\n",
       "    }\n",
       "\n",
       "    .dataframe tbody tr th {\n",
       "        vertical-align: top;\n",
       "    }\n",
       "\n",
       "    .dataframe thead th {\n",
       "        text-align: right;\n",
       "    }\n",
       "</style>\n",
       "<table border=\"1\" class=\"dataframe\">\n",
       "  <thead>\n",
       "    <tr style=\"text-align: right;\">\n",
       "      <th></th>\n",
       "      <th>user_id</th>\n",
       "      <th>book_id</th>\n",
       "      <th>review_id</th>\n",
       "      <th>review_text</th>\n",
       "      <th>date_added</th>\n",
       "      <th>date_updated</th>\n",
       "      <th>read_at</th>\n",
       "      <th>started_at</th>\n",
       "      <th>n_votes</th>\n",
       "      <th>n_comments</th>\n",
       "    </tr>\n",
       "  </thead>\n",
       "  <tbody>\n",
       "    <tr>\n",
       "      <th>0</th>\n",
       "      <td>6ff6f572141651ad567e301e95158a68</td>\n",
       "      <td>2418888</td>\n",
       "      <td>b3d1248da3dd5cb0c15d5e737793ca32</td>\n",
       "      <td>tw book view spoilerwiccawitchcraft minoradult...</td>\n",
       "      <td>Mon Sep 21 23:32:23 -0700 2015</td>\n",
       "      <td>Mon Sep 21 23:39:05 -0700 2015</td>\n",
       "      <td>Sat Jun 06 00:00:00 -0700 2015</td>\n",
       "      <td>NaN</td>\n",
       "      <td>0</td>\n",
       "      <td>0</td>\n",
       "    </tr>\n",
       "    <tr>\n",
       "      <th>1</th>\n",
       "      <td>16b60bb530dceaafde65828438bc79ca</td>\n",
       "      <td>6516450</td>\n",
       "      <td>8ac45a1ad472e40dd19245317087f009</td>\n",
       "      <td>found like half extremely interesting excellen...</td>\n",
       "      <td>Tue Apr 30 07:33:20 -0700 2013</td>\n",
       "      <td>Mon Jun 01 13:46:37 -0700 2015</td>\n",
       "      <td>Mon Jun 01 13:46:37 -0700 2015</td>\n",
       "      <td>NaN</td>\n",
       "      <td>0</td>\n",
       "      <td>0</td>\n",
       "    </tr>\n",
       "    <tr>\n",
       "      <th>2</th>\n",
       "      <td>7efb0e9b3ab7a9e3a5d4a0e0e4200b18</td>\n",
       "      <td>8752885</td>\n",
       "      <td>e083ab7283f9c8f0edd6f5673af348a9</td>\n",
       "      <td>dragons path sneaks start book pause middle ke...</td>\n",
       "      <td>Thu Mar 20 04:08:20 -0700 2014</td>\n",
       "      <td>Fri Mar 21 10:04:10 -0700 2014</td>\n",
       "      <td>Fri Mar 21 10:04:10 -0700 2014</td>\n",
       "      <td>Thu Mar 20 00:00:00 -0700 2014</td>\n",
       "      <td>0</td>\n",
       "      <td>0</td>\n",
       "    </tr>\n",
       "    <tr>\n",
       "      <th>3</th>\n",
       "      <td>aed4f8ec7b4f51fcd5b7f2facea5a058</td>\n",
       "      <td>13484184</td>\n",
       "      <td>167e419508a6a188472e9568226da48a</td>\n",
       "      <td>35 stars well written drawn story never liked ...</td>\n",
       "      <td>Thu Oct 02 11:47:41 -0700 2014</td>\n",
       "      <td>Wed Oct 15 07:55:45 -0700 2014</td>\n",
       "      <td>Sat Oct 11 00:00:00 -0700 2014</td>\n",
       "      <td>NaN</td>\n",
       "      <td>2</td>\n",
       "      <td>3</td>\n",
       "    </tr>\n",
       "    <tr>\n",
       "      <th>4</th>\n",
       "      <td>880dc69f3de6d55a0623d61dedd49868</td>\n",
       "      <td>13265293</td>\n",
       "      <td>03a8a7306e3ef4c1ffd95de068b58b4e</td>\n",
       "      <td>crestfallen feel read book hidden sounds aweso...</td>\n",
       "      <td>Sun Dec 08 11:02:59 -0800 2013</td>\n",
       "      <td>Wed Dec 11 20:04:26 -0800 2013</td>\n",
       "      <td>Wed Dec 11 00:00:00 -0800 2013</td>\n",
       "      <td>Sun Dec 08 00:00:00 -0800 2013</td>\n",
       "      <td>0</td>\n",
       "      <td>0</td>\n",
       "    </tr>\n",
       "  </tbody>\n",
       "</table>\n",
       "</div>"
      ],
      "text/plain": [
       "                            user_id   book_id  \\\n",
       "0  6ff6f572141651ad567e301e95158a68   2418888   \n",
       "1  16b60bb530dceaafde65828438bc79ca   6516450   \n",
       "2  7efb0e9b3ab7a9e3a5d4a0e0e4200b18   8752885   \n",
       "3  aed4f8ec7b4f51fcd5b7f2facea5a058  13484184   \n",
       "4  880dc69f3de6d55a0623d61dedd49868  13265293   \n",
       "\n",
       "                          review_id  \\\n",
       "0  b3d1248da3dd5cb0c15d5e737793ca32   \n",
       "1  8ac45a1ad472e40dd19245317087f009   \n",
       "2  e083ab7283f9c8f0edd6f5673af348a9   \n",
       "3  167e419508a6a188472e9568226da48a   \n",
       "4  03a8a7306e3ef4c1ffd95de068b58b4e   \n",
       "\n",
       "                                         review_text  \\\n",
       "0  tw book view spoilerwiccawitchcraft minoradult...   \n",
       "1  found like half extremely interesting excellen...   \n",
       "2  dragons path sneaks start book pause middle ke...   \n",
       "3  35 stars well written drawn story never liked ...   \n",
       "4  crestfallen feel read book hidden sounds aweso...   \n",
       "\n",
       "                       date_added                    date_updated  \\\n",
       "0  Mon Sep 21 23:32:23 -0700 2015  Mon Sep 21 23:39:05 -0700 2015   \n",
       "1  Tue Apr 30 07:33:20 -0700 2013  Mon Jun 01 13:46:37 -0700 2015   \n",
       "2  Thu Mar 20 04:08:20 -0700 2014  Fri Mar 21 10:04:10 -0700 2014   \n",
       "3  Thu Oct 02 11:47:41 -0700 2014  Wed Oct 15 07:55:45 -0700 2014   \n",
       "4  Sun Dec 08 11:02:59 -0800 2013  Wed Dec 11 20:04:26 -0800 2013   \n",
       "\n",
       "                          read_at                      started_at  n_votes  \\\n",
       "0  Sat Jun 06 00:00:00 -0700 2015                             NaN        0   \n",
       "1  Mon Jun 01 13:46:37 -0700 2015                             NaN        0   \n",
       "2  Fri Mar 21 10:04:10 -0700 2014  Thu Mar 20 00:00:00 -0700 2014        0   \n",
       "3  Sat Oct 11 00:00:00 -0700 2014                             NaN        2   \n",
       "4  Wed Dec 11 00:00:00 -0800 2013  Sun Dec 08 00:00:00 -0800 2013        0   \n",
       "\n",
       "   n_comments  \n",
       "0           0  \n",
       "1           0  \n",
       "2           0  \n",
       "3           3  \n",
       "4           0  "
      ]
     },
     "execution_count": 33,
     "metadata": {},
     "output_type": "execute_result"
    }
   ],
   "source": [
    "def text_preprocessing():\n",
    "    dataframe['review_text'] = dataframe['review_text'].apply(lambda text: lemmatization_stemming(text))\n",
    "\n",
    "dataframe.head()"
   ]
  },
  {
   "cell_type": "markdown",
   "metadata": {},
   "source": [
    "Load the training data"
   ]
  },
  {
   "cell_type": "code",
   "execution_count": 34,
   "metadata": {},
   "outputs": [
    {
     "data": {
      "text/html": [
       "<div>\n",
       "<style scoped>\n",
       "    .dataframe tbody tr th:only-of-type {\n",
       "        vertical-align: middle;\n",
       "    }\n",
       "\n",
       "    .dataframe tbody tr th {\n",
       "        vertical-align: top;\n",
       "    }\n",
       "\n",
       "    .dataframe thead th {\n",
       "        text-align: right;\n",
       "    }\n",
       "</style>\n",
       "<table border=\"1\" class=\"dataframe\">\n",
       "  <thead>\n",
       "    <tr style=\"text-align: right;\">\n",
       "      <th></th>\n",
       "      <th>review_text</th>\n",
       "      <th>rating</th>\n",
       "    </tr>\n",
       "  </thead>\n",
       "  <tbody>\n",
       "    <tr>\n",
       "      <th>0</th>\n",
       "      <td>45 stars loved book incredibly intricate wellc...</td>\n",
       "      <td>4</td>\n",
       "    </tr>\n",
       "    <tr>\n",
       "      <th>1</th>\n",
       "      <td>dad friend read series years friend gave gift ...</td>\n",
       "      <td>4</td>\n",
       "    </tr>\n",
       "    <tr>\n",
       "      <th>2</th>\n",
       "      <td>anyone desiring start exploration sm erotica s...</td>\n",
       "      <td>3</td>\n",
       "    </tr>\n",
       "    <tr>\n",
       "      <th>3</th>\n",
       "      <td>375 stars mal best crazy fun says things make ...</td>\n",
       "      <td>4</td>\n",
       "    </tr>\n",
       "    <tr>\n",
       "      <th>4</th>\n",
       "      <td>would like begin saying much appreciate amount...</td>\n",
       "      <td>5</td>\n",
       "    </tr>\n",
       "  </tbody>\n",
       "</table>\n",
       "</div>"
      ],
      "text/plain": [
       "                                         review_text  rating\n",
       "0  45 stars loved book incredibly intricate wellc...       4\n",
       "1  dad friend read series years friend gave gift ...       4\n",
       "2  anyone desiring start exploration sm erotica s...       3\n",
       "3  375 stars mal best crazy fun says things make ...       4\n",
       "4  would like begin saying much appreciate amount...       5"
      ]
     },
     "execution_count": 34,
     "metadata": {},
     "output_type": "execute_result"
    }
   ],
   "source": [
    "df = pd.read_csv(\"preprocessed_data.csv\")\n",
    "df.head()\n"
   ]
  },
  {
   "cell_type": "markdown",
   "metadata": {},
   "source": [
    "Tfidf"
   ]
  },
  {
   "cell_type": "code",
   "execution_count": 35,
   "metadata": {},
   "outputs": [],
   "source": [
    "df.drop(axis=\"rows\", labels=df.index[df[\"review_text\"].isna()], inplace=True)\n",
    "\n",
    "X_train=df['review_text']\n",
    "y_train=df['rating']\n",
    "\n",
    "X_test = dataframe['review_text']\n",
    "vectorizer = CountVectorizer(analyzer='word',\n",
    "                             ngram_range=(1, 1),\n",
    "                             max_features=500,\n",
    "                             max_df=0.90,\n",
    "                             min_df=5\n",
    "                            )\n",
    "\n",
    "X_train=vectorizer.fit_transform(X_train)\n",
    "X_test=vectorizer.transform(X_test)\n",
    "\n",
    "tfidf_transformer = TfidfTransformer(smooth_idf=True, use_idf=True)\n",
    "X_train = tfidf_transformer.fit_transform(X_train)\n",
    "X_test = tfidf_transformer.transform(X_test)\n",
    "X_train = pd.DataFrame(X_train.toarray(),\n",
    "             columns=vectorizer.get_feature_names_out())\n",
    "X_test = pd.DataFrame(X_test.toarray(),\n",
    "             columns=vectorizer.get_feature_names_out())"
   ]
  },
  {
   "cell_type": "markdown",
   "metadata": {},
   "source": [
    "Standard Scalar"
   ]
  },
  {
   "cell_type": "code",
   "execution_count": 36,
   "metadata": {},
   "outputs": [],
   "source": [
    "from sklearn.preprocessing import StandardScaler\n",
    "\n",
    "std_scaler = StandardScaler()\n",
    "X_train=std_scaler.fit_transform(X_train)\n",
    "X_test=std_scaler.transform(X_test)"
   ]
  },
  {
   "cell_type": "markdown",
   "metadata": {},
   "source": [
    "Random Forest"
   ]
  },
  {
   "cell_type": "code",
   "execution_count": 37,
   "metadata": {},
   "outputs": [],
   "source": [
    "from sklearn.ensemble import RandomForestClassifier\n",
    "\n",
    "clf = RandomForestClassifier(n_estimators=100, random_state=42)\n",
    "clf.fit(X_train, y_train)\n",
    "\n",
    "dataframe['rating']=clf.predict(X_test)"
   ]
  },
  {
   "cell_type": "markdown",
   "metadata": {},
   "source": [
    "Export the test results to Predict_Rating_Logistic_Regression.csv"
   ]
  },
  {
   "cell_type": "code",
   "execution_count": 38,
   "metadata": {},
   "outputs": [],
   "source": [
    "dataframe.drop(axis=\"columns\",labels=[\"user_id\",\"book_id\",\"review_text\",\"date_added\",\"date_updated\",\"read_at\",\"started_at\",\"n_votes\",\"n_comments\"],inplace=True)"
   ]
  },
  {
   "cell_type": "code",
   "execution_count": 39,
   "metadata": {},
   "outputs": [],
   "source": [
    "dataframe.to_csv(\"Predict_Rating_RandomForest.csv\",index=False)"
   ]
  },
  {
   "cell_type": "code",
   "execution_count": 40,
   "metadata": {},
   "outputs": [
    {
     "data": {
      "text/html": [
       "<div>\n",
       "<style scoped>\n",
       "    .dataframe tbody tr th:only-of-type {\n",
       "        vertical-align: middle;\n",
       "    }\n",
       "\n",
       "    .dataframe tbody tr th {\n",
       "        vertical-align: top;\n",
       "    }\n",
       "\n",
       "    .dataframe thead th {\n",
       "        text-align: right;\n",
       "    }\n",
       "</style>\n",
       "<table border=\"1\" class=\"dataframe\">\n",
       "  <thead>\n",
       "    <tr style=\"text-align: right;\">\n",
       "      <th></th>\n",
       "      <th>review_id</th>\n",
       "      <th>rating</th>\n",
       "    </tr>\n",
       "  </thead>\n",
       "  <tbody>\n",
       "    <tr>\n",
       "      <th>0</th>\n",
       "      <td>b3d1248da3dd5cb0c15d5e737793ca32</td>\n",
       "      <td>4</td>\n",
       "    </tr>\n",
       "    <tr>\n",
       "      <th>1</th>\n",
       "      <td>8ac45a1ad472e40dd19245317087f009</td>\n",
       "      <td>3</td>\n",
       "    </tr>\n",
       "    <tr>\n",
       "      <th>2</th>\n",
       "      <td>e083ab7283f9c8f0edd6f5673af348a9</td>\n",
       "      <td>4</td>\n",
       "    </tr>\n",
       "    <tr>\n",
       "      <th>3</th>\n",
       "      <td>167e419508a6a188472e9568226da48a</td>\n",
       "      <td>3</td>\n",
       "    </tr>\n",
       "    <tr>\n",
       "      <th>4</th>\n",
       "      <td>03a8a7306e3ef4c1ffd95de068b58b4e</td>\n",
       "      <td>4</td>\n",
       "    </tr>\n",
       "  </tbody>\n",
       "</table>\n",
       "</div>"
      ],
      "text/plain": [
       "                          review_id  rating\n",
       "0  b3d1248da3dd5cb0c15d5e737793ca32       4\n",
       "1  8ac45a1ad472e40dd19245317087f009       3\n",
       "2  e083ab7283f9c8f0edd6f5673af348a9       4\n",
       "3  167e419508a6a188472e9568226da48a       3\n",
       "4  03a8a7306e3ef4c1ffd95de068b58b4e       4"
      ]
     },
     "execution_count": 40,
     "metadata": {},
     "output_type": "execute_result"
    }
   ],
   "source": [
    "d=pd.read_csv(\"Predict_Rating_RandomForest.csv\")\n",
    "d.head()"
   ]
  }
 ],
 "metadata": {
  "kernelspec": {
   "display_name": "Python 3",
   "language": "python",
   "name": "python3"
  },
  "language_info": {
   "codemirror_mode": {
    "name": "ipython",
    "version": 3
   },
   "file_extension": ".py",
   "mimetype": "text/x-python",
   "name": "python",
   "nbconvert_exporter": "python",
   "pygments_lexer": "ipython3",
   "version": "3.12.0"
  }
 },
 "nbformat": 4,
 "nbformat_minor": 2
}
